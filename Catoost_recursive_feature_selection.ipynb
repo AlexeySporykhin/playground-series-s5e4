{
 "cells": [
  {
   "metadata": {
    "ExecuteTime": {
     "end_time": "2025-04-05T07:13:56.035695Z",
     "start_time": "2025-04-05T07:13:56.032877Z"
    }
   },
   "cell_type": "code",
   "source": [
    "#todo KNN imputation if the missing rate is high.\n",
    "#todo Create new features that may capture underlying patterns (e.g., interaction terms, polynomial features).\n",
    "#todo create separate file for data preparation"
   ],
   "id": "aa405e97b9f2a4c1",
   "outputs": [],
   "execution_count": 1
  },
  {
   "metadata": {
    "ExecuteTime": {
     "end_time": "2025-04-05T07:13:57.225900Z",
     "start_time": "2025-04-05T07:13:56.037133Z"
    }
   },
   "cell_type": "code",
   "source": [
    "##\n",
    "import pandas as pd\n",
    "import numpy as np\n",
    "import warnings\n",
    "\n",
    "from sklearn.pipeline import Pipeline\n",
    "from sklearn.compose import ColumnTransformer\n",
    "from sklearn.impute import SimpleImputer\n",
    "from sklearn.preprocessing import StandardScaler, OneHotEncoder\n",
    "from sklearn.model_selection import train_test_split, cross_val_score\n",
    "from TargetEncoder import TargetEncoder\n",
    "from catboost import CatBoostRegressor\n",
    "from sklearn.metrics import mean_squared_error"
   ],
   "id": "52041f54259396d6",
   "outputs": [],
   "execution_count": 2
  },
  {
   "metadata": {
    "ExecuteTime": {
     "end_time": "2025-04-05T07:13:57.228453Z",
     "start_time": "2025-04-05T07:13:57.226537Z"
    }
   },
   "cell_type": "code",
   "source": "warnings.filterwarnings('ignore')",
   "id": "1607bb44c9ca7bba",
   "outputs": [],
   "execution_count": 3
  },
  {
   "metadata": {
    "ExecuteTime": {
     "end_time": "2025-04-05T07:13:57.230592Z",
     "start_time": "2025-04-05T07:13:57.229085Z"
    }
   },
   "cell_type": "code",
   "source": [
    "##\n",
    "pd.options.display.float_format = '{:,.2f}'.format\n",
    "pd.options.display.max_columns = None"
   ],
   "id": "d2e23c56a02a6836",
   "outputs": [],
   "execution_count": 4
  },
  {
   "metadata": {
    "ExecuteTime": {
     "end_time": "2025-04-05T07:13:57.926324Z",
     "start_time": "2025-04-05T07:13:57.232095Z"
    }
   },
   "cell_type": "code",
   "source": [
    "##\n",
    "submission = pd.read_csv('data/sample_submission.csv')\n",
    "test = pd.read_csv('data/test.csv')\n",
    "train = pd.read_csv('data/train.csv')\n",
    "print(train.shape)"
   ],
   "id": "76b8a6f2cfe4cba4",
   "outputs": [
    {
     "name": "stdout",
     "output_type": "stream",
     "text": [
      "(750000, 12)\n"
     ]
    }
   ],
   "execution_count": 5
  },
  {
   "cell_type": "code",
   "id": "initial_id",
   "metadata": {
    "collapsed": true,
    "ExecuteTime": {
     "end_time": "2025-04-05T07:13:57.928834Z",
     "start_time": "2025-04-05T07:13:57.927015Z"
    }
   },
   "source": [
    "drop_cols = ['id']\n",
    "target_col = ['Listening_Time_minutes']\n",
    "cat_cols = ['Podcast_Name', 'Episode_Title', 'Genre', 'Publication_Day', 'Publication_Time', 'Episode_Sentiment']\n",
    "num_cols = [col for col in train.columns if col not in drop_cols + cat_cols + target_col]"
   ],
   "outputs": [],
   "execution_count": 6
  },
  {
   "metadata": {
    "ExecuteTime": {
     "end_time": "2025-04-05T07:13:57.933456Z",
     "start_time": "2025-04-05T07:13:57.929578Z"
    }
   },
   "cell_type": "code",
   "source": "train.shape",
   "id": "7668950d94655b5f",
   "outputs": [
    {
     "data": {
      "text/plain": [
       "(750000, 12)"
      ]
     },
     "execution_count": 7,
     "metadata": {},
     "output_type": "execute_result"
    }
   ],
   "execution_count": 7
  },
  {
   "metadata": {
    "ExecuteTime": {
     "end_time": "2025-04-05T07:13:57.935460Z",
     "start_time": "2025-04-05T07:13:57.934040Z"
    }
   },
   "cell_type": "code",
   "source": "",
   "id": "927834e529228e2",
   "outputs": [],
   "execution_count": 7
  },
  {
   "metadata": {
    "ExecuteTime": {
     "end_time": "2025-04-05T07:13:57.959786Z",
     "start_time": "2025-04-05T07:13:57.936401Z"
    }
   },
   "cell_type": "code",
   "source": [
    "X = train.drop(drop_cols + target_col, axis=1)\n",
    "y = train['Listening_Time_minutes']"
   ],
   "id": "bd6fb07892643664",
   "outputs": [],
   "execution_count": 8
  },
  {
   "metadata": {
    "ExecuteTime": {
     "end_time": "2025-04-05T07:13:58.022202Z",
     "start_time": "2025-04-05T07:13:57.960488Z"
    }
   },
   "cell_type": "code",
   "source": "X_train, X_test, y_train, y_test = train_test_split(X, y, test_size=0.2, random_state=42)",
   "id": "1759ee14a669c25b",
   "outputs": [],
   "execution_count": 9
  },
  {
   "metadata": {},
   "cell_type": "markdown",
   "source": [
    "# Outliers\n",
    " "
   ],
   "id": "a577d4b21952180c"
  },
  {
   "metadata": {
    "ExecuteTime": {
     "end_time": "2025-04-05T07:13:58.080420Z",
     "start_time": "2025-04-05T07:13:58.023451Z"
    }
   },
   "cell_type": "code",
   "source": [
    "outliers = 'Episode_Length_minutes > 140 or Number_of_Ads > 3'\n",
    "index_drop = X_train.query(outliers).index\n",
    "X_train.drop(index_drop, inplace=True)\n",
    "y_train.drop(index_drop, inplace=True)"
   ],
   "id": "846b14d28077be75",
   "outputs": [],
   "execution_count": 10
  },
  {
   "metadata": {},
   "cell_type": "markdown",
   "source": [
    "# Data Cleaning and Preprocessing\n",
    " "
   ],
   "id": "4447e968d168d0c1"
  },
  {
   "metadata": {
    "ExecuteTime": {
     "end_time": "2025-04-05T07:13:58.083692Z",
     "start_time": "2025-04-05T07:13:58.081071Z"
    }
   },
   "cell_type": "code",
   "source": [
    "def target_encoder(df_train, y_train, df_test, cols, enc):\n",
    "    for col in cols:\n",
    "        df_train.loc[:, col] = enc.fit_transform(df_train.loc[:, col], y_train).reshape(-1)\n",
    "        df_test.loc[:, col] = enc.transform(df_test.loc[:, col]).reshape(-1)\n",
    "    df_train[cols] = df_train[cols].apply(pd.to_numeric, errors='coerce')\n",
    "    df_test[cols] = df_test[cols].apply(pd.to_numeric, errors='coerce')\n",
    "\n",
    "    return df_train, df_test"
   ],
   "id": "6b7d16a638fa470e",
   "outputs": [],
   "execution_count": 11
  },
  {
   "metadata": {
    "ExecuteTime": {
     "end_time": "2025-04-05T07:13:58.087151Z",
     "start_time": "2025-04-05T07:13:58.084855Z"
    }
   },
   "cell_type": "code",
   "source": [
    "def pipe(numer_type_cols, cat_type_cols):\n",
    "    \n",
    "    # Define transformers\n",
    "    num_pipeline = Pipeline([\n",
    "        (\"imputer\", SimpleImputer(strategy=\"median\")),  # Mean imputation\n",
    "        (\"scaler\", StandardScaler())  # Standard scaling\n",
    "    ])\n",
    "    \n",
    "    cat_pipeline = Pipeline([\n",
    "        (\"imputer\", SimpleImputer(strategy=\"most_frequent\")),\n",
    "        (\"encoder\", OneHotEncoder(handle_unknown=\"ignore\"))\n",
    "    ])\n",
    "    \n",
    "    # Combine preprocessing pipelines\n",
    "    preprocessor = ColumnTransformer([\n",
    "        (\"num\", num_pipeline, numer_type_cols),\n",
    "        (\"cat\", cat_pipeline, cat_type_cols)\n",
    "    ])\n",
    "    return preprocessor\n"
   ],
   "id": "447810ea26340baf",
   "outputs": [],
   "execution_count": 12
  },
  {
   "metadata": {},
   "cell_type": "markdown",
   "source": "# Baseline Model:",
   "id": "710a943e24c5c0c"
  },
  {
   "metadata": {
    "ExecuteTime": {
     "end_time": "2025-04-05T15:53:17.732596Z",
     "start_time": "2025-04-05T15:53:16.347893Z"
    }
   },
   "cell_type": "code",
   "source": [
    "X_train, X_test, y_train, y_test = train_test_split(X, y, test_size=0.2, random_state=42)\n",
    "\n",
    "enc = TargetEncoder()\n",
    "X_train, X_test = target_encoder(X_train, y_train, X_test, ['Podcast_Name', 'Episode_Title'], enc)\n",
    "\n",
    "numer_type_cols = X_train.select_dtypes(include=[\"number\"]).columns\n",
    "cat_type_cols = X_train.select_dtypes(include=[\"object\"]).columns\n",
    "\n",
    "preprocessor = pipe(numer_type_cols, cat_type_cols)\n",
    "X_train = preprocessor.fit_transform(X_train)\n",
    "X_test = preprocessor.transform(X_test)\n"
   ],
   "id": "d07045b5f8452c00",
   "outputs": [],
   "execution_count": 67
  },
  {
   "metadata": {
    "ExecuteTime": {
     "end_time": "2025-04-05T15:53:18.299866Z",
     "start_time": "2025-04-05T15:53:18.295712Z"
    }
   },
   "cell_type": "code",
   "source": "model = CatBoostRegressor(random_state=42)",
   "id": "30e28d02e1fd8851",
   "outputs": [],
   "execution_count": 68
  },
  {
   "metadata": {
    "ExecuteTime": {
     "end_time": "2025-04-05T15:53:20.327580Z",
     "start_time": "2025-04-05T15:53:20.321520Z"
    }
   },
   "cell_type": "code",
   "source": [
    "not_transformed = preprocessor.transformers_[0][2]\n",
    "transformed_columns = preprocessor.named_transformers_['cat'].named_steps['encoder'].get_feature_names_out(input_features=cat_type_cols)\n",
    "all_cols = np.concatenate([not_transformed, transformed_columns])"
   ],
   "id": "e1b8a1cb0f7d56c9",
   "outputs": [],
   "execution_count": 69
  },
  {
   "metadata": {
    "ExecuteTime": {
     "end_time": "2025-04-05T15:53:21.628665Z",
     "start_time": "2025-04-05T15:53:21.625300Z"
    }
   },
   "cell_type": "code",
   "source": [
    "X_train = pd.DataFrame(X_train, columns=all_cols)\n",
    "X_test = pd.DataFrame(X_test, columns=all_cols)"
   ],
   "id": "5f17f41d2a2c981a",
   "outputs": [],
   "execution_count": 70
  },
  {
   "metadata": {
    "ExecuteTime": {
     "end_time": "2025-04-05T15:20:49.186164Z",
     "start_time": "2025-04-05T15:19:56.721440Z"
    }
   },
   "cell_type": "code",
   "source": [
    "summary = model.select_features(X_train, y_train, \n",
    "                      eval_set=(X_test, y_test),\n",
    "                      features_for_select='0-29',\n",
    "                      num_features_to_select=8,\n",
    "                      steps=2,\n",
    "                      train_final_model=False,\n",
    "                      logging_level='Silent')"
   ],
   "id": "cfd3605ccfda6b3b",
   "outputs": [],
   "execution_count": 64
  },
  {
   "metadata": {
    "ExecuteTime": {
     "end_time": "2025-04-05T15:20:49.191448Z",
     "start_time": "2025-04-05T15:20:49.188582Z"
    }
   },
   "cell_type": "code",
   "source": [
    "# Посмотрим на список отобранных фичей (не отранжирован по важности)\n",
    "print(summary['selected_features_names'])\n",
    "# И на лучшее значение лосса\n",
    "print(f\"Best loss: {summary['loss_graph']['loss_values'][-1]}\")"
   ],
   "id": "6c0c7101ebdf6662",
   "outputs": [
    {
     "name": "stdout",
     "output_type": "stream",
     "text": [
      "['Podcast_Name', 'Episode_Title', 'Episode_Length_minutes', 'Host_Popularity_percentage', 'Guest_Popularity_percentage', 'Number_of_Ads', 'Genre_Sports', 'Genre_Technology']\n",
      "Best loss: 12.987376461193623\n"
     ]
    }
   ],
   "execution_count": 65
  },
  {
   "metadata": {
    "ExecuteTime": {
     "end_time": "2025-04-05T15:20:49.196042Z",
     "start_time": "2025-04-05T15:20:49.192799Z"
    }
   },
   "cell_type": "code",
   "source": [
    "# В summary сохраняется полный отчет работы алгоритма\n",
    "summary"
   ],
   "id": "ababff57dcad6702",
   "outputs": [
    {
     "data": {
      "text/plain": [
       "{'selected_features': [0, 1, 2, 3, 4, 5, 13, 14],\n",
       " 'eliminated_features_names': ['Genre_News',\n",
       "  'Genre_Health',\n",
       "  'Genre_Comedy',\n",
       "  'Genre_Music',\n",
       "  'Genre_Business',\n",
       "  'Genre_Lifestyle',\n",
       "  'Genre_True Crime',\n",
       "  'Genre_Education'],\n",
       " 'loss_graph': {'main_indices': [0, 5],\n",
       "  'removed_features_count': [0, 1, 2, 3, 4, 5, 6, 7, 8],\n",
       "  'loss_values': [12.984754239775102,\n",
       "   12.983841122571281,\n",
       "   12.983899103517807,\n",
       "   12.984017882815612,\n",
       "   12.984677280696673,\n",
       "   12.985948673330189,\n",
       "   12.986328436519159,\n",
       "   12.986792619260147,\n",
       "   12.987376461193623]},\n",
       " 'eliminated_features': [12, 9, 7, 11, 6, 10, 15, 8],\n",
       " 'selected_features_names': ['Podcast_Name',\n",
       "  'Episode_Title',\n",
       "  'Episode_Length_minutes',\n",
       "  'Host_Popularity_percentage',\n",
       "  'Guest_Popularity_percentage',\n",
       "  'Number_of_Ads',\n",
       "  'Genre_Sports',\n",
       "  'Genre_Technology']}"
      ]
     },
     "execution_count": 66,
     "metadata": {},
     "output_type": "execute_result"
    }
   ],
   "execution_count": 66
  },
  {
   "metadata": {},
   "cell_type": "code",
   "source": [
    "# # Perform Cross-Validation (5-fold)\n",
    "# cv_rmse = np.sqrt(-cross_val_score(baseline_pipeline, X_train, y_train,\n",
    "#                                    scoring=\"neg_mean_squared_error\", cv=5, n_jobs=-1, verbose=100))\n",
    "# \n",
    "# # Train on full training set\n",
    "# baseline_pipeline.fit(X_train, y_train)\n",
    "# \n",
    "# # Make predictions on test set\n",
    "# y_pred = baseline_pipeline.predict(X_test)\n",
    "# \n",
    "# # Calculate RMSE on test set\n",
    "# test_rmse = np.sqrt(mean_squared_error(y_test, y_pred))\n",
    "# \n",
    "# # Print Results\n",
    "# print(f\"Cross-Validation RMSE: {cv_rmse.mean():.4f} ± {cv_rmse.std():.4f}\")\n",
    "# print(f\"Test Set RMSE: {test_rmse:.4f}\")"
   ],
   "id": "8c1595ff0be7b3a1",
   "outputs": [],
   "execution_count": null
  },
  {
   "metadata": {},
   "cell_type": "markdown",
   "source": "# Final model for submission",
   "id": "9a3c8e69a1094ea0"
  },
  {
   "metadata": {},
   "cell_type": "code",
   "source": [
    "# outliers = 'Episode_Length_minutes > 140 or Number_of_Ads > 3'\n",
    "# index_drop = X.query(outliers).index\n",
    "# X.drop(index_drop, inplace=True)\n",
    "# y.drop(index_drop, inplace=True)"
   ],
   "id": "1601040e532efc00",
   "outputs": [],
   "execution_count": null
  },
  {
   "metadata": {},
   "cell_type": "code",
   "source": [
    "# enc = TargetEncoder()\n",
    "# X, X_test = target_encoder(X, y, test, ['Podcast_Name', 'Episode_Title'], enc)"
   ],
   "id": "d5d1970be07988ee",
   "outputs": [],
   "execution_count": null
  },
  {
   "metadata": {},
   "cell_type": "code",
   "source": "# baseline_pipeline.fit(X, y)",
   "id": "efd4e00bea2ec728",
   "outputs": [],
   "execution_count": null
  },
  {
   "metadata": {},
   "cell_type": "code",
   "source": [
    "# # Make predictions on test set\n",
    "# submission['Listening_Time_minutes'] = baseline_pipeline.predict(X_test)\n"
   ],
   "id": "449b96514b4a661c",
   "outputs": [],
   "execution_count": null
  },
  {
   "metadata": {},
   "cell_type": "code",
   "source": "# submission.to_csv('submission.csv', index=False)",
   "id": "95cdf8fa699cdd91",
   "outputs": [],
   "execution_count": null
  }
 ],
 "metadata": {
  "kernelspec": {
   "display_name": "Python 3",
   "language": "python",
   "name": "python3"
  },
  "language_info": {
   "codemirror_mode": {
    "name": "ipython",
    "version": 2
   },
   "file_extension": ".py",
   "mimetype": "text/x-python",
   "name": "python",
   "nbconvert_exporter": "python",
   "pygments_lexer": "ipython2",
   "version": "2.7.6"
  }
 },
 "nbformat": 4,
 "nbformat_minor": 5
}
