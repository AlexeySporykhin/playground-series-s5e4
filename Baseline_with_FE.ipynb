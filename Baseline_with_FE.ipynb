{
 "cells": [
  {
   "metadata": {
    "ExecuteTime": {
     "end_time": "2025-04-25T15:17:26.727440Z",
     "start_time": "2025-04-25T15:17:26.715983Z"
    }
   },
   "cell_type": "code",
   "source": [
    "##\n",
    "import pandas as pd\n",
    "import numpy as np\n",
    "import matplotlib.pyplot as plt\n",
    "import warnings\n",
    "\n",
    "from xgboost import XGBRegressor\n",
    "from sklearn.model_selection import KFold\n",
    "from sklearn.metrics import mean_squared_error"
   ],
   "id": "52041f54259396d6",
   "outputs": [],
   "execution_count": 23
  },
  {
   "metadata": {
    "ExecuteTime": {
     "end_time": "2025-04-25T15:17:26.777390Z",
     "start_time": "2025-04-25T15:17:26.773880Z"
    }
   },
   "cell_type": "code",
   "source": "warnings.filterwarnings('ignore')",
   "id": "1607bb44c9ca7bba",
   "outputs": [],
   "execution_count": 24
  },
  {
   "metadata": {
    "ExecuteTime": {
     "end_time": "2025-04-25T15:17:26.786498Z",
     "start_time": "2025-04-25T15:17:26.784261Z"
    }
   },
   "cell_type": "code",
   "source": [
    "##\n",
    "# pd.options.display.float_format = '{:,.2f}'.format\n",
    "pd.options.display.max_columns = None"
   ],
   "id": "d2e23c56a02a6836",
   "outputs": [],
   "execution_count": 25
  },
  {
   "metadata": {
    "ExecuteTime": {
     "end_time": "2025-04-25T15:17:26.790288Z",
     "start_time": "2025-04-25T15:17:26.787980Z"
    }
   },
   "cell_type": "code",
   "source": "VER = 1",
   "id": "d641d106d809006e",
   "outputs": [],
   "execution_count": 26
  },
  {
   "metadata": {
    "ExecuteTime": {
     "end_time": "2025-04-25T15:17:27.516598Z",
     "start_time": "2025-04-25T15:17:26.796046Z"
    }
   },
   "cell_type": "code",
   "source": [
    "##\n",
    "test = pd.read_csv('data/test.csv')\n",
    "train = pd.read_csv('data/train.csv')\n",
    "print(train.shape)"
   ],
   "id": "76b8a6f2cfe4cba4",
   "outputs": [
    {
     "name": "stdout",
     "output_type": "stream",
     "text": [
      "(750000, 12)\n"
     ]
    }
   ],
   "execution_count": 27
  },
  {
   "metadata": {},
   "cell_type": "markdown",
   "source": "# FE",
   "id": "7912cfd1a2ad608b"
  },
  {
   "metadata": {
    "ExecuteTime": {
     "end_time": "2025-04-25T15:17:27.519906Z",
     "start_time": "2025-04-25T15:17:27.517759Z"
    }
   },
   "cell_type": "code",
   "source": [
    "# def fe(df):\n",
    "#     train['isnull_Episode_Length_minutes'] = train['Episode_Length_minutes'].isnull().astype(int)\n",
    "#     \n",
    "#     train[\"NaNs\"] = np.float32(0)\n",
    "#     for i, c in enumerate(train.columns):\n",
    "#         train[\"NaNs\"] += train[c].isna() * 2 ** i\n",
    "#     \n",
    "#     for k in range(1, 10):\n",
    "#         train[f'elm_digit{k}'] = ((train['Episode_Length_minutes'] * 10 ** k) % 10).fillna(-1).astype(\"int8\")    \n",
    "# \n",
    "# \n",
    "#     #  First we label encode the original categorical column into integers with -1 being NAN\n",
    "#     for i, c in enumerate(CAT_COLS):\n",
    "#         combine = pd.concat([train[c], test[c]], axis=0)\n",
    "#         combine, _ = pd.factorize(combine)\n",
    "#         train[c] = combine[:len(train)]\n",
    "#         test[c] = combine[len(train):]\n",
    "#         \n",
    "#     # Then we combine the integers\n",
    "#     COMBO = []\n",
    "#     for i, c1 in enumerate(CAT_COLS[:-1]):\n",
    "#         for j, c2 in enumerate(CAT_COLS[i + 1:]):\n",
    "#             n = f\"{c1}_{c2}\"\n",
    "#             m1 = train[c1].max() + 1\n",
    "#             m2 = train[c2].max() + 1\n",
    "#             train[n] = ((train[c1] + 1 + (train[c2] + 1) / (m2 + 1)) * (m2 + 1)).astype(\"int8\")\n",
    "#             m1 = test[c1].max() + 1\n",
    "#             m2 = test[c2].max() + 1\n",
    "#             test[n] = ((test[c1] + 1 + (test[c2] + 1) / (m2 + 1)) * (m2 + 1)).astype(\"int8\")\n",
    "#             COMBO.append(n)\n",
    "#     \n",
    "#     return COMBO            \n"
   ],
   "id": "ef4cb41b93cc7652",
   "outputs": [],
   "execution_count": 28
  },
  {
   "metadata": {},
   "cell_type": "markdown",
   "source": "### isNan Episode_Length_minutes",
   "id": "f6ade0b0c0b2f56c"
  },
  {
   "metadata": {
    "ExecuteTime": {
     "end_time": "2025-04-25T15:17:27.522836Z",
     "start_time": "2025-04-25T15:17:27.520854Z"
    }
   },
   "cell_type": "code",
   "source": [
    "# train['isnull_Episode_Length_minutes'] = train['Episode_Length_minutes'].isnull().astype(int)\n",
    "# test['isnull_Episode_Length_minutes'] = test['Episode_Length_minutes'].isnull().astype(int)\n",
    "# \n"
   ],
   "id": "98fff402be9e0e78",
   "outputs": [],
   "execution_count": 29
  },
  {
   "metadata": {},
   "cell_type": "markdown",
   "source": "### All NANs as Single Base-2 Column",
   "id": "5a6fac6ae37ac061"
  },
  {
   "metadata": {
    "ExecuteTime": {
     "end_time": "2025-04-25T15:17:27.525577Z",
     "start_time": "2025-04-25T15:17:27.524017Z"
    }
   },
   "cell_type": "code",
   "source": [
    "# train[\"NaNs\"] = np.float32(0)\n",
    "# test[\"NaNs\"] = np.float32(0)\n",
    "# for i, c in enumerate(train.columns):\n",
    "#     train[\"NaNs\"] += train[c].isna() * 2 ** i\n",
    "#     test[\"NaNs\"] += test[c].isna() * 2 ** i\n"
   ],
   "id": "88652722e13a61df",
   "outputs": [],
   "execution_count": 30
  },
  {
   "metadata": {},
   "cell_type": "markdown",
   "source": "### Extract Float32 as Digits from Episode_Length_minutes",
   "id": "df3dc220ebb03b70"
  },
  {
   "metadata": {
    "ExecuteTime": {
     "end_time": "2025-04-25T15:17:27.527585Z",
     "start_time": "2025-04-25T15:17:27.526041Z"
    }
   },
   "cell_type": "code",
   "source": [
    "# for k in range(1, 10):\n",
    "#     train[f'elm_digit{k}'] = ((train['Episode_Length_minutes'] * 10 ** k) % 10).fillna(-1).astype(\"int8\")\n",
    "#     test[f'elm_digit{k}'] = ((test['Episode_Length_minutes'] * 10 ** k) % 10).fillna(-1).astype(\"int8\")\n"
   ],
   "id": "296270634bc8e5b4",
   "outputs": [],
   "execution_count": 31
  },
  {
   "metadata": {},
   "cell_type": "markdown",
   "source": "### Combination of Categorical Columns",
   "id": "baba0ed5d37c80a8"
  },
  {
   "metadata": {
    "ExecuteTime": {
     "end_time": "2025-04-25T15:17:27.529954Z",
     "start_time": "2025-04-25T15:17:27.528374Z"
    }
   },
   "cell_type": "code",
   "source": [
    "# CAT_COLS = ['Podcast_Name', 'Episode_Title', 'Genre', 'Publication_Day', 'Publication_Time', 'Episode_Sentiment',\n",
    "#             'isnull_Episode_Length_minutes', 'NaNs']\n",
    "# #  First we label encode the original categorical column into integers with -1 being NAN\n",
    "# for i, c in enumerate(CAT_COLS):\n",
    "#     combine = pd.concat([train[c], test[c]], axis=0)\n",
    "#     combine, _ = pd.factorize(combine)\n",
    "#     train[c] = combine[:len(train)]\n",
    "#     test[c] = combine[len(train):]"
   ],
   "id": "a7329caf4104d169",
   "outputs": [],
   "execution_count": 32
  },
  {
   "metadata": {
    "ExecuteTime": {
     "end_time": "2025-04-25T15:17:27.532217Z",
     "start_time": "2025-04-25T15:17:27.530597Z"
    }
   },
   "cell_type": "code",
   "source": [
    "# # Then we combine the integers\n",
    "# COMBO = []\n",
    "# for i, c1 in enumerate(CAT_COLS[:-1]):\n",
    "#     for j, c2 in enumerate(CAT_COLS[i + 1:]):\n",
    "#         n = f\"{c1}_{c2}\"\n",
    "#         m1 = train[c1].max() + 1\n",
    "#         m2 = train[c2].max() + 1\n",
    "#         train[n] = ((train[c1] + 1 + (train[c2] + 1) / (m2 + 1)) * (m2 + 1)).astype(\"int8\")\n",
    "#         m1 = test[c1].max() + 1\n",
    "#         m2 = test[c2].max() + 1\n",
    "#         test[n] = ((test[c1] + 1 + (test[c2] + 1) / (m2 + 1)) * (m2 + 1)).astype(\"int8\")\n",
    "#         COMBO.append(n)\n"
   ],
   "id": "68ac621bc415f789",
   "outputs": [],
   "execution_count": 33
  },
  {
   "metadata": {},
   "cell_type": "markdown",
   "source": "### Groupby(COL1)['Listening_Time_minutes'].agg(HISTOGRAM BINS)\n",
   "id": "2a05eae330c5bf23"
  },
  {
   "metadata": {
    "ExecuteTime": {
     "end_time": "2025-04-25T15:17:27.535599Z",
     "start_time": "2025-04-25T15:17:27.533114Z"
    }
   },
   "cell_type": "code",
   "source": [
    "def make_histogram(series, bins=5):\n",
    "    \"\"\"\n",
    "    Args:\n",
    "        series (pd.Series): The price values for a group.\n",
    "        bins (int): Number of equally spaced bins.\n",
    "    \"\"\"\n",
    "    counts, bin_edges = np.histogram(series, bins=bins)\n",
    "    counts_reshaped = counts.reshape((-1, len(counts)))\n",
    "    # Optionally, you could label them or keep as is\n",
    "    return pd.DataFrame(counts_reshaped, columns=[f\"ltm_bin_{i}\" for i in range(len(counts))])"
   ],
   "id": "86a1d3149fbfa008",
   "outputs": [],
   "execution_count": 34
  },
  {
   "metadata": {},
   "cell_type": "markdown",
   "source": "### Groupby(COL1)['Listening_Time_minutes'].agg(QUANTILES)\n",
   "id": "2b8c127b3d6ef727"
  },
  {
   "metadata": {
    "ExecuteTime": {
     "end_time": "2025-04-25T15:17:27.538470Z",
     "start_time": "2025-04-25T15:17:27.536319Z"
    }
   },
   "cell_type": "code",
   "source": [
    "QUANTILES = [0.05, 0.1, 0.4, 0.45, 0.55, 0.6, 0.9, 0.95]\n",
    "\n",
    "def quant(series):\n",
    "    quantils = np.quantile(series, QUANTILES)\n",
    "    quantils_reshaped = quantils.reshape((-1, len(quantils)))\n",
    "    return pd.DataFrame(quantils_reshaped, columns=[f\"quantils_bin_{int(i * 100)}\" for i in QUANTILES])"
   ],
   "id": "11aedadec21572a5",
   "outputs": [],
   "execution_count": 35
  },
  {
   "metadata": {},
   "cell_type": "markdown",
   "source": "## Create columns lists",
   "id": "aa1c9c4d3da45912"
  },
  {
   "metadata": {
    "ExecuteTime": {
     "end_time": "2025-04-25T15:17:50.413842Z",
     "start_time": "2025-04-25T15:17:50.411027Z"
    }
   },
   "cell_type": "code",
   "source": [
    "DROP_COLS = ['id']\n",
    "TARGET_COL = ['Listening_Time_minutes']\n",
    "CAT_COLS = ['Podcast_Name', 'Episode_Title', 'Genre', 'Publication_Day', 'Publication_Time', 'Episode_Sentiment',\n",
    "            # 'isnull_Episode_Length_minutes', 'NaNs'\n",
    "            ]"
   ],
   "id": "f28bc48a3a47ac0e",
   "outputs": [],
   "execution_count": 45
  },
  {
   "metadata": {
    "ExecuteTime": {
     "end_time": "2025-04-25T15:17:56.932486Z",
     "start_time": "2025-04-25T15:17:56.930020Z"
    }
   },
   "cell_type": "code",
   "source": "# CAT_COLS.extend(COMBO)",
   "id": "9a6ea829d15d6a69",
   "outputs": [],
   "execution_count": 46
  },
  {
   "metadata": {
    "ExecuteTime": {
     "end_time": "2025-04-25T15:17:57.220996Z",
     "start_time": "2025-04-25T15:17:57.218234Z"
    }
   },
   "cell_type": "code",
   "source": [
    "NUM_COLS = [col for col in train.columns if col not in DROP_COLS + CAT_COLS + TARGET_COL]\n",
    "FEATURES = CAT_COLS + NUM_COLS"
   ],
   "id": "d102ca1c8b9d2b20",
   "outputs": [],
   "execution_count": 47
  },
  {
   "metadata": {
    "ExecuteTime": {
     "end_time": "2025-04-25T15:18:00.427828Z",
     "start_time": "2025-04-25T15:18:00.425141Z"
    }
   },
   "cell_type": "code",
   "source": [
    "# STATISTICS TO AGGREGATE FOR OUR FEATURE GROUPS\n",
    "STATS = [\"mean\", \"std\", \"count\", \"nunique\", \"median\", \"min\", \"max\", \"skew\"]\n",
    "STATS2 = [\"mean\", \"std\"]"
   ],
   "id": "6038e5121800dea7",
   "outputs": [],
   "execution_count": 48
  },
  {
   "metadata": {},
   "cell_type": "markdown",
   "source": "## KFOLD ",
   "id": "2a10272f79e871aa"
  },
  {
   "metadata": {
    "ExecuteTime": {
     "end_time": "2025-04-25T15:18:29.268410Z",
     "start_time": "2025-04-25T15:18:00.467865Z"
    }
   },
   "cell_type": "code",
   "source": [
    "%%time\n",
    "\n",
    "FOLDS = 5\n",
    "kf = KFold(n_splits=FOLDS, shuffle=True, random_state=42)\n",
    "\n",
    "oof = np.zeros((len(train)))\n",
    "pred = np.zeros((len(test)))\n",
    "\n",
    "# OUTER K FOLD\n",
    "for i, (train_index, test_index) in enumerate(kf.split(train)):\n",
    "    print(f\"### OUTER Fold {i + 1} ###\")\n",
    "\n",
    "    X_train = train.loc[train_index, FEATURES + TARGET_COL].reset_index(drop=True).copy()\n",
    "    y_train = train.loc[train_index, 'Listening_Time_minutes']\n",
    "\n",
    "    X_valid = train.loc[test_index, FEATURES].reset_index(drop=True).copy()\n",
    "    y_valid = train.loc[test_index, 'Listening_Time_minutes']\n",
    "\n",
    "    X_test = test[FEATURES].reset_index(drop=True).copy()\n",
    "\n",
    "    # CONVERT TO CAT_COLS SO XGBOOST RECOGNIZES THEM\n",
    "    X_train[CAT_COLS] = X_train[CAT_COLS].astype(\"category\")\n",
    "    X_valid[CAT_COLS] = X_valid[CAT_COLS].astype(\"category\")\n",
    "    X_test[CAT_COLS] = X_test[CAT_COLS].astype(\"category\")\n",
    "\n",
    "    # DROP Listening_Time_minutes THAT WAS USED FOR TARGET ENCODING\n",
    "    X_train = X_train.drop(TARGET_COL, axis=1)\n",
    "\n",
    "    # BUILD MODEL\n",
    "    model = XGBRegressor(\n",
    "        enable_categorical=True,\n",
    "        random_state=42\n",
    "    )\n",
    "\n",
    "    # TRAIN MODEL\n",
    "    COLS = X_train.columns\n",
    "    model.fit(\n",
    "        X_train[COLS], y_train,\n",
    "        eval_set=[(X_valid[COLS], y_valid)],\n",
    "        verbose=300,\n",
    "    )\n",
    "\n",
    "    # PREDICT OOF AND TEST\n",
    "    oof[test_index] = model.predict(X_valid[COLS])\n",
    "    pred += model.predict(X_test[COLS])\n",
    "\n",
    "pred /= FOLDS"
   ],
   "id": "34865f27859aada5",
   "outputs": [
    {
     "name": "stdout",
     "output_type": "stream",
     "text": [
      "### OUTER Fold 1 ###\n",
      "[0]\tvalidation_0-rmse:21.21728\n",
      "[99]\tvalidation_0-rmse:13.03480\n",
      "### OUTER Fold 2 ###\n",
      "[0]\tvalidation_0-rmse:21.25177\n",
      "[99]\tvalidation_0-rmse:13.09400\n",
      "### OUTER Fold 3 ###\n",
      "[0]\tvalidation_0-rmse:21.23016\n",
      "[99]\tvalidation_0-rmse:13.09074\n",
      "### OUTER Fold 4 ###\n",
      "[0]\tvalidation_0-rmse:21.28371\n",
      "[99]\tvalidation_0-rmse:13.06846\n",
      "### OUTER Fold 5 ###\n",
      "[0]\tvalidation_0-rmse:21.18717\n",
      "[99]\tvalidation_0-rmse:13.04396\n",
      "CPU times: user 1min 38s, sys: 20.5 s, total: 1min 59s\n",
      "Wall time: 28.8 s\n"
     ]
    }
   ],
   "execution_count": 49
  },
  {
   "metadata": {},
   "cell_type": "markdown",
   "source": [
    "# Overall CV Score\n",
    "Below we display overall cv score and save oof predictions to disk, so we can use them later to assist finding ensemble weights with our other models."
   ],
   "id": "aa20014ace42ddd5"
  },
  {
   "metadata": {
    "ExecuteTime": {
     "end_time": "2025-04-25T15:18:29.277772Z",
     "start_time": "2025-04-25T15:18:29.270811Z"
    }
   },
   "cell_type": "code",
   "source": [
    "# COMPUTE OVERALL CV SCORE\n",
    "true = train.Listening_Time_minutes.values\n",
    "s = np.sqrt(mean_squared_error(true, oof))\n",
    "print(f\"=> Overall CV Score = {s}\")"
   ],
   "id": "adba9dcadd20bff2",
   "outputs": [
    {
     "name": "stdout",
     "output_type": "stream",
     "text": [
      "=> Overall CV Score = 13.066409294857293\n"
     ]
    }
   ],
   "execution_count": 50
  },
  {
   "metadata": {},
   "cell_type": "markdown",
   "source": [
    "# XGB Feature Importance\n",
    "Here is XGBoost feature importance sorted by `gain`."
   ],
   "id": "2946448b89de7664"
  },
  {
   "metadata": {
    "ExecuteTime": {
     "end_time": "2025-04-25T15:18:29.426634Z",
     "start_time": "2025-04-25T15:18:29.278884Z"
    }
   },
   "cell_type": "code",
   "source": [
    "import xgboost as xgb\n",
    "\n",
    "fig, ax = plt.subplots(figsize=(10, 20))\n",
    "xgb.plot_importance(model, max_num_features=100, importance_type='gain', ax=ax)\n",
    "plt.title(\"Top 100 Feature Importances (XGBoost)\")\n",
    "plt.show()"
   ],
   "id": "1f8b87b98c7b69b6",
   "outputs": [
    {
     "data": {
      "text/plain": [
       "<Figure size 1000x2000 with 1 Axes>"
      ],
      "image/png": "[encoded data removed]"
     },
     "metadata": {},
     "output_type": "display_data"
    }
   ],
   "execution_count": 51
  },
  {
   "metadata": {},
   "cell_type": "markdown",
   "source": [
    "# Make Submission CSV\n",
    "We save our test predictions to submission.csv and plot our predictions. "
   ],
   "id": "740361ecf0700418"
  },
  {
   "metadata": {
    "ExecuteTime": {
     "end_time": "2025-04-25T15:18:29.649605Z",
     "start_time": "2025-04-25T15:18:29.430919Z"
    }
   },
   "cell_type": "code",
   "source": [
    "sub = pd.read_csv(\"data/sample_submission.csv\")\n",
    "sub.Price = pred\n",
    "sub.to_csv(f\"submission_v{VER}.csv\", index=False)\n",
    "sub.head()"
   ],
   "id": "a452a0d9477f5465",
   "outputs": [
    {
     "data": {
      "text/plain": [
       "       id  Listening_Time_minutes\n",
       "0  750000                  45.437\n",
       "1  750001                  45.437\n",
       "2  750002                  45.437\n",
       "3  750003                  45.437\n",
       "4  750004                  45.437"
      ],
      "text/html": [
       "<div>\n",
       "<style scoped>\n",
       "    .dataframe tbody tr th:only-of-type {\n",
       "        vertical-align: middle;\n",
       "    }\n",
       "\n",
       "    .dataframe tbody tr th {\n",
       "        vertical-align: top;\n",
       "    }\n",
       "\n",
       "    .dataframe thead th {\n",
       "        text-align: right;\n",
       "    }\n",
       "</style>\n",
       "<table border=\"1\" class=\"dataframe\">\n",
       "  <thead>\n",
       "    <tr style=\"text-align: right;\">\n",
       "      <th></th>\n",
       "      <th>id</th>\n",
       "      <th>Listening_Time_minutes</th>\n",
       "    </tr>\n",
       "  </thead>\n",
       "  <tbody>\n",
       "    <tr>\n",
       "      <th>0</th>\n",
       "      <td>750000</td>\n",
       "      <td>45.437</td>\n",
       "    </tr>\n",
       "    <tr>\n",
       "      <th>1</th>\n",
       "      <td>750001</td>\n",
       "      <td>45.437</td>\n",
       "    </tr>\n",
       "    <tr>\n",
       "      <th>2</th>\n",
       "      <td>750002</td>\n",
       "      <td>45.437</td>\n",
       "    </tr>\n",
       "    <tr>\n",
       "      <th>3</th>\n",
       "      <td>750003</td>\n",
       "      <td>45.437</td>\n",
       "    </tr>\n",
       "    <tr>\n",
       "      <th>4</th>\n",
       "      <td>750004</td>\n",
       "      <td>45.437</td>\n",
       "    </tr>\n",
       "  </tbody>\n",
       "</table>\n",
       "</div>"
      ]
     },
     "execution_count": 52,
     "metadata": {},
     "output_type": "execute_result"
    }
   ],
   "execution_count": 52
  },
  {
   "metadata": {
    "ExecuteTime": {
     "end_time": "2025-04-25T15:18:29.762491Z",
     "start_time": "2025-04-25T15:18:29.650401Z"
    }
   },
   "cell_type": "code",
   "source": [
    "plt.figure(figsize=(6, 4))\n",
    "plt.hist(sub.Price, bins=100)\n",
    "plt.title(\"Test Predictions\")\n",
    "plt.show()"
   ],
   "id": "84df4890f309d5e0",
   "outputs": [
    {
     "data": {
      "text/plain": [
       "<Figure size 600x400 with 1 Axes>"
      ],
      "image/png": "[encoded data removed]"
     },
     "metadata": {},
     "output_type": "display_data"
    }
   ],
   "execution_count": 53
  },
  {
   "metadata": {
    "ExecuteTime": {
     "end_time": "2025-04-25T15:18:29.769020Z",
     "start_time": "2025-04-25T15:18:29.765071Z"
    }
   },
   "cell_type": "code",
   "source": "",
   "id": "e335ac59f4727a01",
   "outputs": [],
   "execution_count": 53
  }
 ],
 "metadata": {
  "kernelspec": {
   "display_name": "Python 3",
   "language": "python",
   "name": "python3"
  },
  "language_info": {
   "codemirror_mode": {
    "name": "ipython",
    "version": 2
   },
   "file_extension": ".py",
   "mimetype": "text/x-python",
   "name": "python",
   "nbconvert_exporter": "python",
   "pygments_lexer": "ipython2",
   "version": "2.7.6"
  }
 },
 "nbformat": 4,
 "nbformat_minor": 5
}
