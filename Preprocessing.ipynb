{
 "cells": [
  {
   "metadata": {
    "ExecuteTime": {
     "end_time": "2025-04-03T12:23:36.588938Z",
     "start_time": "2025-04-03T12:23:36.574382Z"
    }
   },
   "cell_type": "code",
   "source": [
    "#todo outliers train: Number_of_Ads. test: Number_of_Ads, Episode_Length_minutes \n",
    "#todo KNN imputation if the missing rate is high.\n",
    "#todo Create new features that may capture underlying patterns (e.g., interaction terms, polynomial features).\n",
    "#todo create separate file for data preparation"
   ],
   "id": "aa405e97b9f2a4c1",
   "outputs": [],
   "execution_count": 33
  },
  {
   "metadata": {
    "ExecuteTime": {
     "end_time": "2025-04-03T12:23:36.620232Z",
     "start_time": "2025-04-03T12:23:36.616990Z"
    }
   },
   "cell_type": "code",
   "source": [
    "##\n",
    "import pandas as pd\n",
    "import numpy as np\n",
    "import matplotlib.pyplot as plt\n",
    "import seaborn as sns\n",
    "import warnings\n",
    "\n",
    "from sklearn.pipeline import Pipeline\n",
    "from sklearn.compose import ColumnTransformer\n",
    "from sklearn.impute import SimpleImputer\n",
    "from sklearn.preprocessing import StandardScaler, OneHotEncoder\n",
    "from sklearn.model_selection import train_test_split, cross_val_score\n",
    "from TargetEncoder import TargetEncoder\n",
    "from sklearn.linear_model import LinearRegression\n",
    "from sklearn.metrics import mean_squared_error"
   ],
   "id": "52041f54259396d6",
   "outputs": [],
   "execution_count": 34
  },
  {
   "metadata": {
    "ExecuteTime": {
     "end_time": "2025-04-03T12:23:36.629265Z",
     "start_time": "2025-04-03T12:23:36.627006Z"
    }
   },
   "cell_type": "code",
   "source": "warnings.filterwarnings('ignore')",
   "id": "1607bb44c9ca7bba",
   "outputs": [],
   "execution_count": 35
  },
  {
   "metadata": {
    "ExecuteTime": {
     "end_time": "2025-04-03T12:23:36.633300Z",
     "start_time": "2025-04-03T12:23:36.630662Z"
    }
   },
   "cell_type": "code",
   "source": [
    "##\n",
    "pd.options.display.float_format = '{:,.2f}'.format\n",
    "pd.options.display.max_columns = None"
   ],
   "id": "d2e23c56a02a6836",
   "outputs": [],
   "execution_count": 36
  },
  {
   "metadata": {
    "ExecuteTime": {
     "end_time": "2025-04-03T12:23:37.366683Z",
     "start_time": "2025-04-03T12:23:36.634443Z"
    }
   },
   "cell_type": "code",
   "source": [
    "##\n",
    "submission = pd.read_csv('data/sample_submission.csv')\n",
    "test = pd.read_csv('data/test.csv')\n",
    "train = pd.read_csv('data/train.csv')\n",
    "print(train.shape)"
   ],
   "id": "76b8a6f2cfe4cba4",
   "outputs": [
    {
     "name": "stdout",
     "output_type": "stream",
     "text": [
      "(750000, 12)\n"
     ]
    }
   ],
   "execution_count": 37
  },
  {
   "cell_type": "code",
   "id": "initial_id",
   "metadata": {
    "collapsed": true,
    "ExecuteTime": {
     "end_time": "2025-04-03T12:23:37.370524Z",
     "start_time": "2025-04-03T12:23:37.368094Z"
    }
   },
   "source": [
    "drop_cols = ['id']\n",
    "target_col = ['Listening_Time_minutes']\n",
    "cat_cols = ['Podcast_Name', 'Episode_Title', 'Genre', 'Publication_Day', 'Publication_Time', 'Episode_Sentiment']\n",
    "num_cols = [col for col in train.columns if col not in drop_cols + cat_cols + target_col]"
   ],
   "outputs": [],
   "execution_count": 38
  },
  {
   "metadata": {
    "ExecuteTime": {
     "end_time": "2025-04-03T12:23:37.374105Z",
     "start_time": "2025-04-03T12:23:37.371580Z"
    }
   },
   "cell_type": "code",
   "source": "train.shape",
   "id": "7668950d94655b5f",
   "outputs": [
    {
     "data": {
      "text/plain": [
       "(750000, 12)"
      ]
     },
     "execution_count": 39,
     "metadata": {},
     "output_type": "execute_result"
    }
   ],
   "execution_count": 39
  },
  {
   "metadata": {
    "ExecuteTime": {
     "end_time": "2025-04-03T12:23:37.376696Z",
     "start_time": "2025-04-03T12:23:37.375158Z"
    }
   },
   "cell_type": "code",
   "source": "",
   "id": "927834e529228e2",
   "outputs": [],
   "execution_count": 39
  },
  {
   "metadata": {
    "ExecuteTime": {
     "end_time": "2025-04-03T12:23:37.417061Z",
     "start_time": "2025-04-03T12:23:37.377207Z"
    }
   },
   "cell_type": "code",
   "source": [
    "X = train.drop(drop_cols + target_col, axis=1)\n",
    "y = train['Listening_Time_minutes']"
   ],
   "id": "bd6fb07892643664",
   "outputs": [],
   "execution_count": 40
  },
  {
   "metadata": {
    "ExecuteTime": {
     "end_time": "2025-04-03T12:23:37.523203Z",
     "start_time": "2025-04-03T12:23:37.417771Z"
    }
   },
   "cell_type": "code",
   "source": "X_train, X_test, y_train, y_test = train_test_split(X, y, test_size=0.2, random_state=42)",
   "id": "1759ee14a669c25b",
   "outputs": [],
   "execution_count": 41
  },
  {
   "metadata": {},
   "cell_type": "markdown",
   "source": [
    "# Outliers\n",
    " "
   ],
   "id": "a577d4b21952180c"
  },
  {
   "metadata": {
    "ExecuteTime": {
     "end_time": "2025-04-03T12:23:37.574838Z",
     "start_time": "2025-04-03T12:23:37.525297Z"
    }
   },
   "cell_type": "code",
   "source": [
    "outliers  = 'Episode_Length_minutes > 140 or Number_of_Ads > 3'\n",
    "index_drop = X_train.query(outliers).index\n",
    "X_train.drop(index_drop, inplace=True)\n",
    "y_train.drop(index_drop, inplace=True)"
   ],
   "id": "846b14d28077be75",
   "outputs": [],
   "execution_count": 42
  },
  {
   "metadata": {},
   "cell_type": "markdown",
   "source": [
    "# Data Cleaning and Preprocessing\n",
    " "
   ],
   "id": "f30e11d8b88aae16"
  },
  {
   "metadata": {
    "ExecuteTime": {
     "end_time": "2025-04-03T12:23:37.578842Z",
     "start_time": "2025-04-03T12:23:37.575913Z"
    }
   },
   "cell_type": "code",
   "source": [
    "def target_encoder(df_train, df_test, cols, enc):\n",
    "    for col in cols:\n",
    "        df_train.loc[:, col] = enc.fit_transform(df_train.loc[:, col], y_train).reshape(-1)\n",
    "        df_test.loc[:, col] = enc.transform(df_test.loc[:, col]).reshape(-1)\n",
    "    df_train[cols] = df_train[cols].apply(pd.to_numeric, errors='coerce')\n",
    "    df_test[cols] = df_test[cols].apply(pd.to_numeric, errors='coerce')\n",
    "\n",
    "    return df_train, df_test\n",
    "\n",
    "enc = TargetEncoder()\n"
   ],
   "id": "f78b751afd024949",
   "outputs": [],
   "execution_count": 43
  },
  {
   "metadata": {
    "ExecuteTime": {
     "end_time": "2025-04-03T12:23:37.804541Z",
     "start_time": "2025-04-03T12:23:37.579739Z"
    }
   },
   "cell_type": "code",
   "source": "X_train, X_test = target_encoder(X_train, X_test, ['Podcast_Name', 'Episode_Title'], enc)",
   "id": "43d11b939f57e454",
   "outputs": [],
   "execution_count": 44
  },
  {
   "metadata": {
    "ExecuteTime": {
     "end_time": "2025-04-03T12:23:37.832311Z",
     "start_time": "2025-04-03T12:23:37.805345Z"
    }
   },
   "cell_type": "code",
   "source": [
    "numer_type_cols = X_train.select_dtypes(include=[\"number\"]).columns\n",
    "cat_type_cols = X_train.select_dtypes(include=[\"object\"]).columns\n",
    "\n",
    "# Define transformers\n",
    "num_pipeline = Pipeline([\n",
    "    (\"imputer\", SimpleImputer(strategy=\"mean\")),  # Mean imputation\n",
    "    (\"scaler\", StandardScaler())  # Standard scaling\n",
    "])\n",
    "\n",
    "cat_pipeline = Pipeline([\n",
    "    (\"imputer\", SimpleImputer(strategy=\"most_frequent\")),\n",
    "    (\"encoder\", OneHotEncoder(handle_unknown=\"ignore\"))\n",
    "])\n",
    "\n",
    "# Combine preprocessing pipelines\n",
    "preprocessor = ColumnTransformer([\n",
    "    (\"num\", num_pipeline, numer_type_cols),\n",
    "    (\"cat\", cat_pipeline, cat_type_cols)\n",
    "])\n",
    "\n"
   ],
   "id": "9120bf584aae533f",
   "outputs": [],
   "execution_count": 45
  },
  {
   "metadata": {
    "ExecuteTime": {
     "end_time": "2025-04-03T12:23:37.835002Z",
     "start_time": "2025-04-03T12:23:37.833051Z"
    }
   },
   "cell_type": "code",
   "source": [
    "# X_train = preprocessor.fit_transform(X_train)\n",
    "# X_test = preprocessor.transform(X_test)"
   ],
   "id": "be0d9d8749d415fb",
   "outputs": [],
   "execution_count": 46
  },
  {
   "metadata": {},
   "cell_type": "markdown",
   "source": "# Baseline Model:",
   "id": "710a943e24c5c0c"
  },
  {
   "metadata": {
    "ExecuteTime": {
     "end_time": "2025-04-03T12:23:37.837211Z",
     "start_time": "2025-04-03T12:23:37.835633Z"
    }
   },
   "cell_type": "code",
   "source": [
    "# Define full pipeline with Linear Regression\n",
    "baseline_pipeline = Pipeline([\n",
    "    (\"preprocessor\", preprocessor),\n",
    "    (\"model\", LinearRegression())\n",
    "])"
   ],
   "id": "d0a99c2c223fbe23",
   "outputs": [],
   "execution_count": 47
  },
  {
   "metadata": {
    "ExecuteTime": {
     "end_time": "2025-04-03T12:23:43.820456Z",
     "start_time": "2025-04-03T12:23:37.838003Z"
    }
   },
   "cell_type": "code",
   "source": [
    "# Perform Cross-Validation (5-fold)\n",
    "cv_rmse = np.sqrt(-cross_val_score(baseline_pipeline, X_train, y_train, \n",
    "                                   scoring=\"neg_mean_squared_error\", cv=5))\n",
    "\n",
    "# Train on full training set\n",
    "baseline_pipeline.fit(X_train, y_train)\n",
    "\n",
    "# Make predictions on test set\n",
    "y_pred = baseline_pipeline.predict(X_test)\n",
    "\n",
    "# Calculate RMSE on test set\n",
    "test_rmse = np.sqrt(mean_squared_error(y_test, y_pred))\n",
    "\n",
    "# Print Results\n",
    "print(f\"Cross-Validation RMSE: {cv_rmse.mean():.4f} ± {cv_rmse.std():.4f}\")\n",
    "print(f\"Test Set RMSE: {test_rmse:.4f}\")"
   ],
   "id": "8c1595ff0be7b3a1",
   "outputs": [
    {
     "name": "stdout",
     "output_type": "stream",
     "text": [
      "Cross-Validation RMSE: 13.3671 ± 0.0151\n",
      "Test Set RMSE: 13.3497\n"
     ]
    }
   ],
   "execution_count": 48
  }
 ],
 "metadata": {
  "kernelspec": {
   "display_name": "Python 3",
   "language": "python",
   "name": "python3"
  },
  "language_info": {
   "codemirror_mode": {
    "name": "ipython",
    "version": 2
   },
   "file_extension": ".py",
   "mimetype": "text/x-python",
   "name": "python",
   "nbconvert_exporter": "python",
   "pygments_lexer": "ipython2",
   "version": "2.7.6"
  }
 },
 "nbformat": 4,
 "nbformat_minor": 5
}
