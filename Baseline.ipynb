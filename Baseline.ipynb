{
 "cells": [
  {
   "metadata": {
    "ExecuteTime": {
     "end_time": "2025-04-09T08:01:19.076036Z",
     "start_time": "2025-04-09T08:01:19.073459Z"
    }
   },
   "cell_type": "code",
   "source": [
    "#todo Create new features that may capture underlying patterns (e.g., interaction terms, polynomial features).\n",
    "#todo create separate file for data preparation"
   ],
   "id": "aa405e97b9f2a4c1",
   "execution_count": 1,
   "outputs": []
  },
  {
   "metadata": {
    "ExecuteTime": {
     "end_time": "2025-04-09T08:01:20.328205Z",
     "start_time": "2025-04-09T08:01:19.122718Z"
    }
   },
   "cell_type": "code",
   "source": [
    "##\n",
    "import pandas as pd\n",
    "import numpy as np\n",
    "import warnings\n",
    "\n",
    "from sklearn.pipeline import Pipeline\n",
    "from sklearn.compose import ColumnTransformer\n",
    "from sklearn.experimental import enable_iterative_imputer\n",
    "from sklearn.impute import SimpleImputer, KNNImputer, IterativeImputer\n",
    "from sklearn.preprocessing import StandardScaler, OneHotEncoder\n",
    "from sklearn.model_selection import train_test_split, cross_val_score\n",
    "from TargetEncoder import TargetEncoder\n",
    "from xgboost import XGBRegressor\n",
    "from sklearn.metrics import mean_squared_error"
   ],
   "id": "52041f54259396d6",
   "execution_count": 2,
   "outputs": []
  },
  {
   "metadata": {
    "ExecuteTime": {
     "end_time": "2025-04-09T08:01:20.331150Z",
     "start_time": "2025-04-09T08:01:20.329225Z"
    }
   },
   "cell_type": "code",
   "source": "warnings.filterwarnings('ignore')",
   "id": "1607bb44c9ca7bba",
   "execution_count": 3,
   "outputs": []
  },
  {
   "metadata": {
    "ExecuteTime": {
     "end_time": "2025-04-09T08:01:20.333321Z",
     "start_time": "2025-04-09T08:01:20.331794Z"
    }
   },
   "cell_type": "code",
   "source": [
    "##\n",
    "pd.options.display.float_format = '{:,.2f}'.format\n",
    "pd.options.display.max_columns = None"
   ],
   "id": "d2e23c56a02a6836",
   "execution_count": 4,
   "outputs": []
  },
  {
   "metadata": {
    "ExecuteTime": {
     "end_time": "2025-04-09T08:01:21.179412Z",
     "start_time": "2025-04-09T08:01:20.335032Z"
    }
   },
   "cell_type": "code",
   "source": [
    "##\n",
    "submission = pd.read_csv('data/sample_submission.csv')\n",
    "test = pd.read_csv('data/test.csv')\n",
    "train = pd.read_csv('data/train.csv')\n",
    "print(train.shape)"
   ],
   "id": "76b8a6f2cfe4cba4",
   "execution_count": 5,
   "outputs": []
  },
  {
   "cell_type": "code",
   "id": "initial_id",
   "metadata": {
    "collapsed": true,
    "ExecuteTime": {
     "end_time": "2025-04-09T08:01:21.182839Z",
     "start_time": "2025-04-09T08:01:21.180446Z"
    }
   },
   "source": [
    "drop_cols = ['id']\n",
    "target_col = ['Listening_Time_minutes']\n",
    "cat_cols = ['Podcast_Name', 'Episode_Title', 'Genre', 'Publication_Day', 'Publication_Time', 'Episode_Sentiment']\n",
    "num_cols = [col for col in train.columns if col not in drop_cols + cat_cols + target_col]"
   ],
   "execution_count": 6,
   "outputs": []
  },
  {
   "metadata": {
    "ExecuteTime": {
     "end_time": "2025-04-09T08:01:21.187122Z",
     "start_time": "2025-04-09T08:01:21.183659Z"
    }
   },
   "cell_type": "code",
   "source": "train.shape",
   "id": "7668950d94655b5f",
   "execution_count": 7,
   "outputs": []
  },
  {
   "metadata": {
    "ExecuteTime": {
     "end_time": "2025-04-09T08:01:21.209778Z",
     "start_time": "2025-04-09T08:01:21.187946Z"
    }
   },
   "cell_type": "code",
   "source": [
    "X = train.drop(drop_cols + target_col, axis=1)\n",
    "y = train['Listening_Time_minutes']"
   ],
   "id": "bd6fb07892643664",
   "execution_count": 8,
   "outputs": []
  },
  {
   "metadata": {
    "ExecuteTime": {
     "end_time": "2025-04-09T08:01:21.216081Z",
     "start_time": "2025-04-09T08:01:21.211424Z"
    }
   },
   "cell_type": "code",
   "source": "X['isnull_Episode_Length_minutes'] = X['Episode_Length_minutes'].isnull().astype(int)",
   "id": "9d1758679497c1ef",
   "execution_count": 9,
   "outputs": []
  },
  {
   "metadata": {},
   "cell_type": "markdown",
   "source": "# Impute Episode_Length_minutes  ",
   "id": "d42114597b1e160e"
  },
  {
   "metadata": {
    "ExecuteTime": {
     "end_time": "2025-04-09T08:01:21.221975Z",
     "start_time": "2025-04-09T08:01:21.216869Z"
    }
   },
   "cell_type": "code",
   "source": [
    "from sklearn.base import BaseEstimator, RegressorMixin, clone\n",
    "import numpy as np\n",
    "import pandas as pd\n",
    "\n",
    "class SplitByNullPipeline(BaseEstimator, RegressorMixin):\n",
    "    def __init__(self, pipeline_with, pipeline_without, split_column):\n",
    "        self.pipeline_with = pipeline_with\n",
    "        self.pipeline_without = pipeline_without\n",
    "        self.split_column = split_column\n",
    "\n",
    "    def fit(self, X, y):\n",
    "        # Ensure X is a DataFrame\n",
    "        if not isinstance(X, pd.DataFrame):\n",
    "            raise ValueError(\"X must be a pandas DataFrame\")\n",
    "\n",
    "        self.mask = X[self.split_column].isnull()\n",
    "\n",
    "        # Split\n",
    "        X_with = X[~self.mask]\n",
    "        y_with = y[~self.mask]\n",
    "\n",
    "        X_without = X[self.mask].drop(columns=self.split_column)\n",
    "        y_without = y[self.mask]\n",
    "\n",
    "        self.pipeline_with_ = clone(self.pipeline_with).fit(X_with, y_with)\n",
    "        self.pipeline_without_ = clone(self.pipeline_without).fit(X_without, y_without)\n",
    "        return self\n",
    "\n",
    "    def predict(self, X):\n",
    "        # Ensure X is a DataFrame\n",
    "        if not isinstance(X, pd.DataFrame):\n",
    "            raise ValueError(\"X must be a pandas DataFrame\")\n",
    "\n",
    "        mask = X[self.split_column].isnull()\n",
    "\n",
    "        X_with = X[~mask]\n",
    "        X_without = X[mask].drop(columns=self.split_column)\n",
    "\n",
    "        y_pred = np.empty(X.shape[0])\n",
    "        y_pred[~mask] = self.pipeline_with_.predict(X_with)\n",
    "        y_pred[mask] = self.pipeline_without_.predict(X_without)\n",
    "\n",
    "        return y_pred\n"
   ],
   "id": "4f97693f31b1905a",
   "execution_count": 10,
   "outputs": []
  },
  {
   "metadata": {
    "ExecuteTime": {
     "end_time": "2025-04-09T08:01:21.297305Z",
     "start_time": "2025-04-09T08:01:21.227670Z"
    }
   },
   "cell_type": "code",
   "source": "X_train, X_test, y_train, y_test = train_test_split(X, y, test_size=0.2, random_state=42)",
   "id": "1759ee14a669c25b",
   "execution_count": 12,
   "outputs": []
  },
  {
   "metadata": {},
   "cell_type": "markdown",
   "source": [
    "# Outliers\n",
    " "
   ],
   "id": "a577d4b21952180c"
  },
  {
   "metadata": {
    "ExecuteTime": {
     "end_time": "2025-04-09T08:01:21.353041Z",
     "start_time": "2025-04-09T08:01:21.297908Z"
    }
   },
   "cell_type": "code",
   "source": [
    "outliers = 'Episode_Length_minutes > 140 or Number_of_Ads > 3'\n",
    "index_drop = X_train.query(outliers).index\n",
    "X_train.drop(index_drop, inplace=True)\n",
    "y_train.drop(index_drop, inplace=True)"
   ],
   "id": "846b14d28077be75",
   "execution_count": 13,
   "outputs": []
  },
  {
   "metadata": {},
   "cell_type": "markdown",
   "source": [
    "# Data Cleaning and Preprocessing\n",
    " "
   ],
   "id": "4447e968d168d0c1"
  },
  {
   "metadata": {
    "ExecuteTime": {
     "end_time": "2025-04-09T08:01:21.356745Z",
     "start_time": "2025-04-09T08:01:21.353788Z"
    }
   },
   "cell_type": "code",
   "source": [
    "def target_encoder(df_train, y_train, df_test, cols, enc):\n",
    "    for col in cols:\n",
    "        df_train.loc[:, col] = enc.fit_transform(df_train.loc[:, col], y_train).reshape(-1)\n",
    "        df_test.loc[:, col] = enc.transform(df_test.loc[:, col]).reshape(-1)\n",
    "    df_train[cols] = df_train[cols].apply(pd.to_numeric, errors='coerce')\n",
    "    df_test[cols] = df_test[cols].apply(pd.to_numeric, errors='coerce')\n",
    "\n",
    "    return df_train, df_test"
   ],
   "id": "6b7d16a638fa470e",
   "execution_count": 14,
   "outputs": []
  },
  {
   "metadata": {
    "ExecuteTime": {
     "end_time": "2025-04-09T08:01:21.359727Z",
     "start_time": "2025-04-09T08:01:21.357253Z"
    }
   },
   "cell_type": "code",
   "source": [
    "def pipe(numer_type_cols, cat_type_cols):\n",
    "    # Define transformers\n",
    "    num_pipeline = Pipeline([\n",
    "        (\"imputer\", SimpleImputer(strategy='median')),  # Median imputation\n",
    "        (\"scaler\", StandardScaler())  # Standard scaling\n",
    "    ])\n",
    "\n",
    "    cat_pipeline = Pipeline([\n",
    "        (\"imputer\", SimpleImputer(strategy=\"most_frequent\")),\n",
    "        (\"encoder\", OneHotEncoder(handle_unknown=\"ignore\"))\n",
    "    ])\n",
    "\n",
    "    # Combine preprocessing pipelines\n",
    "    preprocessor = ColumnTransformer([\n",
    "        (\"num\", num_pipeline, numer_type_cols),\n",
    "        (\"cat\", cat_pipeline, cat_type_cols)\n",
    "    ])\n",
    "    return preprocessor\n"
   ],
   "id": "447810ea26340baf",
   "execution_count": 15,
   "outputs": []
  },
  {
   "metadata": {
    "ExecuteTime": {
     "end_time": "2025-04-09T08:01:21.581396Z",
     "start_time": "2025-04-09T08:01:21.360529Z"
    }
   },
   "cell_type": "code",
   "source": [
    "enc = TargetEncoder()\n",
    "X_train, X_test = target_encoder(X_train, y_train, X_test, ['Podcast_Name', 'Episode_Title'], enc)"
   ],
   "id": "fa5a3b725324d780",
   "execution_count": 16,
   "outputs": []
  },
  {
   "metadata": {
    "ExecuteTime": {
     "end_time": "2025-04-09T08:01:21.609023Z",
     "start_time": "2025-04-09T08:01:21.582114Z"
    }
   },
   "cell_type": "code",
   "source": [
    "numer_type_cols = X_train.select_dtypes(include=[\"number\"]).columns\n",
    "cat_type_cols = X_train.select_dtypes(include=[\"object\"]).columns\n",
    "\n",
    "numer_type_cols_without = [col for col in numer_type_cols if col != 'Episode_Length_minutes']"
   ],
   "id": "fbb3488054efb712",
   "execution_count": 17,
   "outputs": []
  },
  {
   "metadata": {
    "ExecuteTime": {
     "end_time": "2025-04-09T08:01:21.612291Z",
     "start_time": "2025-04-09T08:01:21.609759Z"
    }
   },
   "cell_type": "code",
   "source": [
    "preprocessor_with = pipe(numer_type_cols, cat_type_cols)\n",
    "preprocessor_without = pipe(numer_type_cols_without, cat_type_cols)"
   ],
   "id": "92a090616601a737",
   "execution_count": 18,
   "outputs": []
  },
  {
   "metadata": {},
   "cell_type": "markdown",
   "source": "# Baseline Model:",
   "id": "710a943e24c5c0c"
  },
  {
   "metadata": {
    "ExecuteTime": {
     "end_time": "2025-04-09T08:01:21.615650Z",
     "start_time": "2025-04-09T08:01:21.613267Z"
    }
   },
   "cell_type": "code",
   "source": [
    "\n",
    "pipeline_with = Pipeline([\n",
    "    (\"preprocessor\", preprocessor_with),\n",
    "    (\"model\", XGBRegressor(random_state=42))\n",
    "])\n",
    "\n",
    "pipeline_without = Pipeline([\n",
    "    (\"preprocessor\", preprocessor_without),\n",
    "    (\"model\", XGBRegressor(random_state=42))\n",
    "])\n",
    "\n",
    "# Create dual pipeline that branches on nulls\n",
    "baseline_pipeline = SplitByNullPipeline(\n",
    "    pipeline_with=pipeline_with,\n",
    "    pipeline_without=pipeline_without,\n",
    "    split_column='Episode_Length_minutes'\n",
    ")"
   ],
   "id": "d0a99c2c223fbe23",
   "execution_count": 19,
   "outputs": []
  },
  {
   "metadata": {
    "ExecuteTime": {
     "end_time": "2025-04-09T08:01:24.137384Z",
     "start_time": "2025-04-09T08:01:21.616617Z"
    }
   },
   "cell_type": "code",
   "source": "baseline_pipeline.fit(X_train, y_train)",
   "id": "2d87944160c878ae",
   "execution_count": 20,
   "outputs": []
  },
  {
   "metadata": {
    "ExecuteTime": {
     "end_time": "2025-04-09T08:01:33.542100Z",
     "start_time": "2025-04-09T08:01:24.138346Z"
    }
   },
   "cell_type": "code",
   "source": [
    "# Perform Cross-Validation (5-fold)\n",
    "cv_rmse = np.sqrt(-cross_val_score(baseline_pipeline, X_train, y_train,\n",
    "                                   scoring=\"neg_mean_squared_error\", cv=5, n_jobs=-1, verbose=100))\n",
    "\n",
    "# Train on full training set\n",
    "baseline_pipeline.fit(X_train, y_train)\n",
    "\n",
    "# Make predictions on test set\n",
    "y_pred = baseline_pipeline.predict(X_test)\n",
    "\n",
    "# Calculate RMSE on test set\n",
    "test_rmse = np.sqrt(mean_squared_error(y_test, y_pred))\n",
    "\n",
    "# Print Results\n",
    "print(f\"Cross-Validation RMSE: {cv_rmse.mean():.4f} ± {cv_rmse.std():.4f}\")\n",
    "print(f\"Test Set RMSE: {test_rmse:.4f}\")"
   ],
   "id": "8c1595ff0be7b3a1",
   "execution_count": 21,
   "outputs": []
  },
  {
   "metadata": {},
   "cell_type": "markdown",
   "source": "# Final model for submission",
   "id": "9a3c8e69a1094ea0"
  },
  {
   "metadata": {
    "ExecuteTime": {
     "end_time": "2025-04-09T08:01:33.635719Z",
     "start_time": "2025-04-09T08:01:33.543287Z"
    }
   },
   "cell_type": "code",
   "source": [
    "outliers = 'Episode_Length_minutes > 140 or Number_of_Ads > 3'\n",
    "index_drop = X.query(outliers).index\n",
    "X.drop(index_drop, inplace=True)\n",
    "y.drop(index_drop, inplace=True)"
   ],
   "id": "1601040e532efc00",
   "execution_count": 22,
   "outputs": []
  },
  {
   "metadata": {
    "ExecuteTime": {
     "end_time": "2025-04-09T08:01:33.946771Z",
     "start_time": "2025-04-09T08:01:33.636873Z"
    }
   },
   "cell_type": "code",
   "source": [
    "enc = TargetEncoder()\n",
    "X, X_test = target_encoder(X, y, test, ['Podcast_Name', 'Episode_Title'], enc)"
   ],
   "id": "d5d1970be07988ee",
   "execution_count": 23,
   "outputs": []
  },
  {
   "metadata": {
    "ExecuteTime": {
     "end_time": "2025-04-09T08:01:37.226073Z",
     "start_time": "2025-04-09T08:01:33.947513Z"
    }
   },
   "cell_type": "code",
   "source": "baseline_pipeline.fit(X, y)",
   "id": "efd4e00bea2ec728",
   "execution_count": 24,
   "outputs": []
  },
  {
   "metadata": {
    "ExecuteTime": {
     "end_time": "2025-04-09T08:01:37.934657Z",
     "start_time": "2025-04-09T08:01:37.227067Z"
    }
   },
   "cell_type": "code",
   "source": [
    "# Make predictions on test set\n",
    "submission['Listening_Time_minutes'] = baseline_pipeline.predict(X_test)\n"
   ],
   "id": "449b96514b4a661c",
   "execution_count": 25,
   "outputs": []
  },
  {
   "metadata": {
    "ExecuteTime": {
     "end_time": "2025-04-09T08:01:37.935741Z",
     "start_time": "2025-04-09T08:01:37.935683Z"
    }
   },
   "cell_type": "code",
   "source": "submission.to_csv('submission.csv', index=False)",
   "id": "95cdf8fa699cdd91",
   "execution_count": null,
   "outputs": []
  }
 ],
 "metadata": {
  "kernelspec": {
   "display_name": "Python 3",
   "language": "python",
   "name": "python3"
  },
  "language_info": {
   "codemirror_mode": {
    "name": "ipython",
    "version": 2
   },
   "file_extension": ".py",
   "mimetype": "text/x-python",
   "name": "python",
   "nbconvert_exporter": "python",
   "pygments_lexer": "ipython2",
   "version": "2.7.6"
  }
 },
 "nbformat": 4,
 "nbformat_minor": 5
}
