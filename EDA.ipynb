{
 "cells": [
  {
   "metadata": {
    "ExecuteTime": {
     "end_time": "2025-04-02T13:45:09.305831Z",
     "start_time": "2025-04-02T13:45:09.299812Z"
    }
   },
   "cell_type": "code",
   "source": [
    "##\n",
    "import pandas as pd\n",
    "import numpy as np\n",
    "import matplotlib.pyplot as plt\n",
    "import seaborn as sns\n",
    "import warnings"
   ],
   "id": "1a29936a95fde049",
   "outputs": [],
   "execution_count": 74
  },
  {
   "metadata": {
    "ExecuteTime": {
     "end_time": "2025-04-02T13:45:14.621169Z",
     "start_time": "2025-04-02T13:45:14.616261Z"
    }
   },
   "cell_type": "code",
   "source": "warnings.filterwarnings('ignore')",
   "id": "1607bb44c9ca7bba",
   "outputs": [],
   "execution_count": 75
  },
  {
   "metadata": {
    "ExecuteTime": {
     "end_time": "2025-04-02T07:42:37.307546Z",
     "start_time": "2025-04-02T07:42:37.304812Z"
    }
   },
   "cell_type": "code",
   "source": [
    "##\n",
    "pd.options.display.float_format = '{:,.2f}'.format\n",
    "pd.options.display.max_columns = None"
   ],
   "id": "d2e23c56a02a6836",
   "outputs": [],
   "execution_count": 8
  },
  {
   "metadata": {
    "ExecuteTime": {
     "end_time": "2025-04-02T07:42:37.391371Z",
     "start_time": "2025-04-02T07:42:37.309203Z"
    }
   },
   "cell_type": "code",
   "source": [
    "##\n",
    "submission = pd.read_csv('data/sample_submission.csv')\n",
    "test = pd.read_csv('data/test.csv')\n",
    "train = pd.read_csv('data/train.csv')\n",
    "print(train.shape)"
   ],
   "id": "76b8a6f2cfe4cba4",
   "outputs": [
    {
     "name": "stdout",
     "output_type": "stream",
     "text": [
      "(25265, 12)\n"
     ]
    }
   ],
   "execution_count": 9
  },
  {
   "cell_type": "code",
   "id": "initial_id",
   "metadata": {
    "collapsed": true,
    "ExecuteTime": {
     "end_time": "2025-04-02T07:42:37.394792Z",
     "start_time": "2025-04-02T07:42:37.392470Z"
    }
   },
   "source": [
    "drop_cols = ['id']\n",
    "cat_cols = ['Podcast_Name', 'Episode_Title', 'Genre', 'Publication_Day', 'Publication_Time', 'Episode_Sentiment']\n",
    "num_cols = [col for col in train.columns if col not in drop_cols+cat_cols]"
   ],
   "outputs": [],
   "execution_count": 10
  },
  {
   "metadata": {
    "ExecuteTime": {
     "end_time": "2025-04-02T07:42:37.410639Z",
     "start_time": "2025-04-02T07:42:37.395353Z"
    }
   },
   "cell_type": "code",
   "source": "train.loc[:, num_cols].describe()",
   "id": "a241c6fe0d6731d5",
   "outputs": [
    {
     "data": {
      "text/plain": [
       "       Episode_Length_minutes  Host_Popularity_percentage  \\\n",
       "count               22,336.00                   25,265.00   \n",
       "mean                    64.83                       59.89   \n",
       "std                     32.93                       23.02   \n",
       "min                      5.00                       20.00   \n",
       "25%                     36.29                       39.21   \n",
       "50%                     64.31                       60.08   \n",
       "75%                     94.39                       79.68   \n",
       "max                    119.97                      117.76   \n",
       "\n",
       "       Guest_Popularity_percentage  Number_of_Ads  Listening_Time_minutes  \n",
       "count                    20,373.00      25,264.00               25,264.00  \n",
       "mean                         52.06           1.34                   45.76  \n",
       "std                          28.37           1.10                   27.14  \n",
       "min                           0.01           0.00                    0.00  \n",
       "25%                          28.36           0.00                   23.71  \n",
       "50%                          53.13           1.00                   43.95  \n",
       "75%                          76.32           2.00                   65.02  \n",
       "max                         107.08           3.00                  119.97  "
      ],
      "text/html": [
       "<div>\n",
       "<style scoped>\n",
       "    .dataframe tbody tr th:only-of-type {\n",
       "        vertical-align: middle;\n",
       "    }\n",
       "\n",
       "    .dataframe tbody tr th {\n",
       "        vertical-align: top;\n",
       "    }\n",
       "\n",
       "    .dataframe thead th {\n",
       "        text-align: right;\n",
       "    }\n",
       "</style>\n",
       "<table border=\"1\" class=\"dataframe\">\n",
       "  <thead>\n",
       "    <tr style=\"text-align: right;\">\n",
       "      <th></th>\n",
       "      <th>Episode_Length_minutes</th>\n",
       "      <th>Host_Popularity_percentage</th>\n",
       "      <th>Guest_Popularity_percentage</th>\n",
       "      <th>Number_of_Ads</th>\n",
       "      <th>Listening_Time_minutes</th>\n",
       "    </tr>\n",
       "  </thead>\n",
       "  <tbody>\n",
       "    <tr>\n",
       "      <th>count</th>\n",
       "      <td>22,336.00</td>\n",
       "      <td>25,265.00</td>\n",
       "      <td>20,373.00</td>\n",
       "      <td>25,264.00</td>\n",
       "      <td>25,264.00</td>\n",
       "    </tr>\n",
       "    <tr>\n",
       "      <th>mean</th>\n",
       "      <td>64.83</td>\n",
       "      <td>59.89</td>\n",
       "      <td>52.06</td>\n",
       "      <td>1.34</td>\n",
       "      <td>45.76</td>\n",
       "    </tr>\n",
       "    <tr>\n",
       "      <th>std</th>\n",
       "      <td>32.93</td>\n",
       "      <td>23.02</td>\n",
       "      <td>28.37</td>\n",
       "      <td>1.10</td>\n",
       "      <td>27.14</td>\n",
       "    </tr>\n",
       "    <tr>\n",
       "      <th>min</th>\n",
       "      <td>5.00</td>\n",
       "      <td>20.00</td>\n",
       "      <td>0.01</td>\n",
       "      <td>0.00</td>\n",
       "      <td>0.00</td>\n",
       "    </tr>\n",
       "    <tr>\n",
       "      <th>25%</th>\n",
       "      <td>36.29</td>\n",
       "      <td>39.21</td>\n",
       "      <td>28.36</td>\n",
       "      <td>0.00</td>\n",
       "      <td>23.71</td>\n",
       "    </tr>\n",
       "    <tr>\n",
       "      <th>50%</th>\n",
       "      <td>64.31</td>\n",
       "      <td>60.08</td>\n",
       "      <td>53.13</td>\n",
       "      <td>1.00</td>\n",
       "      <td>43.95</td>\n",
       "    </tr>\n",
       "    <tr>\n",
       "      <th>75%</th>\n",
       "      <td>94.39</td>\n",
       "      <td>79.68</td>\n",
       "      <td>76.32</td>\n",
       "      <td>2.00</td>\n",
       "      <td>65.02</td>\n",
       "    </tr>\n",
       "    <tr>\n",
       "      <th>max</th>\n",
       "      <td>119.97</td>\n",
       "      <td>117.76</td>\n",
       "      <td>107.08</td>\n",
       "      <td>3.00</td>\n",
       "      <td>119.97</td>\n",
       "    </tr>\n",
       "  </tbody>\n",
       "</table>\n",
       "</div>"
      ]
     },
     "execution_count": 11,
     "metadata": {},
     "output_type": "execute_result"
    }
   ],
   "execution_count": 11
  },
  {
   "metadata": {
    "ExecuteTime": {
     "end_time": "2025-04-02T07:44:56.249059Z",
     "start_time": "2025-04-02T07:44:56.233538Z"
    }
   },
   "cell_type": "code",
   "source": "train.loc[:, cat_cols].describe(include='all')",
   "id": "59e6fe95113fa219",
   "outputs": [
    {
     "data": {
      "text/plain": [
       "       Podcast_Name Episode_Title   Genre Publication_Day Publication_Time  \\\n",
       "count         25265         25265   25265           25265            25264   \n",
       "unique           48           100      10               8                4   \n",
       "top      Tech Talks    Episode 62  Sports          Sunday            Night   \n",
       "freq            759           368    2942            3903             6633   \n",
       "\n",
       "       Episode_Sentiment  \n",
       "count              25264  \n",
       "unique                 3  \n",
       "top              Neutral  \n",
       "freq                8549  "
      ],
      "text/html": [
       "<div>\n",
       "<style scoped>\n",
       "    .dataframe tbody tr th:only-of-type {\n",
       "        vertical-align: middle;\n",
       "    }\n",
       "\n",
       "    .dataframe tbody tr th {\n",
       "        vertical-align: top;\n",
       "    }\n",
       "\n",
       "    .dataframe thead th {\n",
       "        text-align: right;\n",
       "    }\n",
       "</style>\n",
       "<table border=\"1\" class=\"dataframe\">\n",
       "  <thead>\n",
       "    <tr style=\"text-align: right;\">\n",
       "      <th></th>\n",
       "      <th>Podcast_Name</th>\n",
       "      <th>Episode_Title</th>\n",
       "      <th>Genre</th>\n",
       "      <th>Publication_Day</th>\n",
       "      <th>Publication_Time</th>\n",
       "      <th>Episode_Sentiment</th>\n",
       "    </tr>\n",
       "  </thead>\n",
       "  <tbody>\n",
       "    <tr>\n",
       "      <th>count</th>\n",
       "      <td>25265</td>\n",
       "      <td>25265</td>\n",
       "      <td>25265</td>\n",
       "      <td>25265</td>\n",
       "      <td>25264</td>\n",
       "      <td>25264</td>\n",
       "    </tr>\n",
       "    <tr>\n",
       "      <th>unique</th>\n",
       "      <td>48</td>\n",
       "      <td>100</td>\n",
       "      <td>10</td>\n",
       "      <td>8</td>\n",
       "      <td>4</td>\n",
       "      <td>3</td>\n",
       "    </tr>\n",
       "    <tr>\n",
       "      <th>top</th>\n",
       "      <td>Tech Talks</td>\n",
       "      <td>Episode 62</td>\n",
       "      <td>Sports</td>\n",
       "      <td>Sunday</td>\n",
       "      <td>Night</td>\n",
       "      <td>Neutral</td>\n",
       "    </tr>\n",
       "    <tr>\n",
       "      <th>freq</th>\n",
       "      <td>759</td>\n",
       "      <td>368</td>\n",
       "      <td>2942</td>\n",
       "      <td>3903</td>\n",
       "      <td>6633</td>\n",
       "      <td>8549</td>\n",
       "    </tr>\n",
       "  </tbody>\n",
       "</table>\n",
       "</div>"
      ]
     },
     "execution_count": 12,
     "metadata": {},
     "output_type": "execute_result"
    }
   ],
   "execution_count": 12
  },
  {
   "metadata": {
    "ExecuteTime": {
     "end_time": "2025-04-02T08:01:41.309082Z",
     "start_time": "2025-04-02T08:01:41.306706Z"
    }
   },
   "cell_type": "code",
   "source": "#todo Wednesd Publication_Day",
   "id": "8a4fe47900ffc3b4",
   "outputs": [],
   "execution_count": 23
  },
  {
   "metadata": {},
   "cell_type": "code",
   "outputs": [],
   "execution_count": null,
   "source": [
    "#todo normalize num cols\n",
    "#todo fillna with mean, KNN"
   ],
   "id": "f9454e0d7b8c09af"
  },
  {
   "metadata": {
    "ExecuteTime": {
     "end_time": "2025-04-02T09:29:45.045161Z",
     "start_time": "2025-04-02T09:29:45.024354Z"
    }
   },
   "cell_type": "code",
   "source": [
    "s1 = train.isna().mean().sort_values(ascending=False)\n",
    "s2 = test.isna().mean().sort_values(ascending=False)\n",
    "\n",
    "pd.merge(s1.to_frame(), s2.to_frame(), left_index=True, right_index=True, how='outer', suffixes=['_train', '_test'])\n"
   ],
   "id": "8036b24c94db66bd",
   "outputs": [
    {
     "data": {
      "text/plain": [
       "                             0_train  0_test\n",
       "Episode_Length_minutes          0.12    0.11\n",
       "Episode_Sentiment               0.00    0.00\n",
       "Episode_Title                   0.00    0.00\n",
       "Genre                           0.00    0.00\n",
       "Guest_Popularity_percentage     0.19    0.19\n",
       "Host_Popularity_percentage      0.00    0.00\n",
       "Listening_Time_minutes          0.00     NaN\n",
       "Number_of_Ads                   0.00    0.00\n",
       "Podcast_Name                    0.00    0.00\n",
       "Publication_Day                 0.00    0.00\n",
       "Publication_Time                0.00    0.00\n",
       "id                              0.00    0.00"
      ],
      "text/html": [
       "<div>\n",
       "<style scoped>\n",
       "    .dataframe tbody tr th:only-of-type {\n",
       "        vertical-align: middle;\n",
       "    }\n",
       "\n",
       "    .dataframe tbody tr th {\n",
       "        vertical-align: top;\n",
       "    }\n",
       "\n",
       "    .dataframe thead th {\n",
       "        text-align: right;\n",
       "    }\n",
       "</style>\n",
       "<table border=\"1\" class=\"dataframe\">\n",
       "  <thead>\n",
       "    <tr style=\"text-align: right;\">\n",
       "      <th></th>\n",
       "      <th>0_train</th>\n",
       "      <th>0_test</th>\n",
       "    </tr>\n",
       "  </thead>\n",
       "  <tbody>\n",
       "    <tr>\n",
       "      <th>Episode_Length_minutes</th>\n",
       "      <td>0.12</td>\n",
       "      <td>0.11</td>\n",
       "    </tr>\n",
       "    <tr>\n",
       "      <th>Episode_Sentiment</th>\n",
       "      <td>0.00</td>\n",
       "      <td>0.00</td>\n",
       "    </tr>\n",
       "    <tr>\n",
       "      <th>Episode_Title</th>\n",
       "      <td>0.00</td>\n",
       "      <td>0.00</td>\n",
       "    </tr>\n",
       "    <tr>\n",
       "      <th>Genre</th>\n",
       "      <td>0.00</td>\n",
       "      <td>0.00</td>\n",
       "    </tr>\n",
       "    <tr>\n",
       "      <th>Guest_Popularity_percentage</th>\n",
       "      <td>0.19</td>\n",
       "      <td>0.19</td>\n",
       "    </tr>\n",
       "    <tr>\n",
       "      <th>Host_Popularity_percentage</th>\n",
       "      <td>0.00</td>\n",
       "      <td>0.00</td>\n",
       "    </tr>\n",
       "    <tr>\n",
       "      <th>Listening_Time_minutes</th>\n",
       "      <td>0.00</td>\n",
       "      <td>NaN</td>\n",
       "    </tr>\n",
       "    <tr>\n",
       "      <th>Number_of_Ads</th>\n",
       "      <td>0.00</td>\n",
       "      <td>0.00</td>\n",
       "    </tr>\n",
       "    <tr>\n",
       "      <th>Podcast_Name</th>\n",
       "      <td>0.00</td>\n",
       "      <td>0.00</td>\n",
       "    </tr>\n",
       "    <tr>\n",
       "      <th>Publication_Day</th>\n",
       "      <td>0.00</td>\n",
       "      <td>0.00</td>\n",
       "    </tr>\n",
       "    <tr>\n",
       "      <th>Publication_Time</th>\n",
       "      <td>0.00</td>\n",
       "      <td>0.00</td>\n",
       "    </tr>\n",
       "    <tr>\n",
       "      <th>id</th>\n",
       "      <td>0.00</td>\n",
       "      <td>0.00</td>\n",
       "    </tr>\n",
       "  </tbody>\n",
       "</table>\n",
       "</div>"
      ]
     },
     "execution_count": 64,
     "metadata": {},
     "output_type": "execute_result"
    }
   ],
   "execution_count": 64
  },
  {
   "metadata": {
    "ExecuteTime": {
     "end_time": "2025-04-02T09:34:44.041055Z",
     "start_time": "2025-04-02T09:34:44.018529Z"
    }
   },
   "cell_type": "code",
   "source": [
    "s1 = train['Episode_Title'].value_counts(normalize=True)\n",
    "s2 = test['Episode_Title'].value_counts(normalize=True)\n",
    "\n",
    "pd.merge(s1.to_frame(), s2.to_frame(), left_index=True, right_index=True, how='outer', suffixes=['_train', '_test'])\n"
   ],
   "id": "216cc298a783125b",
   "outputs": [
    {
     "data": {
      "text/plain": [
       "               proportion_train  proportion_test\n",
       "Episode_Title                                   \n",
       "Episode 1                  0.01             0.01\n",
       "Episode 10                 0.01             0.01\n",
       "Episode 100                0.01             0.01\n",
       "Episode 11                 0.01             0.01\n",
       "Episode 12                 0.01             0.01\n",
       "...                         ...              ...\n",
       "Episode 95                 0.01             0.01\n",
       "Episode 96                 0.01             0.01\n",
       "Episode 97                 0.01             0.01\n",
       "Episode 98                 0.01             0.01\n",
       "Episode 99                 0.01             0.01\n",
       "\n",
       "[100 rows x 2 columns]"
      ],
      "text/html": [
       "<div>\n",
       "<style scoped>\n",
       "    .dataframe tbody tr th:only-of-type {\n",
       "        vertical-align: middle;\n",
       "    }\n",
       "\n",
       "    .dataframe tbody tr th {\n",
       "        vertical-align: top;\n",
       "    }\n",
       "\n",
       "    .dataframe thead th {\n",
       "        text-align: right;\n",
       "    }\n",
       "</style>\n",
       "<table border=\"1\" class=\"dataframe\">\n",
       "  <thead>\n",
       "    <tr style=\"text-align: right;\">\n",
       "      <th></th>\n",
       "      <th>proportion_train</th>\n",
       "      <th>proportion_test</th>\n",
       "    </tr>\n",
       "    <tr>\n",
       "      <th>Episode_Title</th>\n",
       "      <th></th>\n",
       "      <th></th>\n",
       "    </tr>\n",
       "  </thead>\n",
       "  <tbody>\n",
       "    <tr>\n",
       "      <th>Episode 1</th>\n",
       "      <td>0.01</td>\n",
       "      <td>0.01</td>\n",
       "    </tr>\n",
       "    <tr>\n",
       "      <th>Episode 10</th>\n",
       "      <td>0.01</td>\n",
       "      <td>0.01</td>\n",
       "    </tr>\n",
       "    <tr>\n",
       "      <th>Episode 100</th>\n",
       "      <td>0.01</td>\n",
       "      <td>0.01</td>\n",
       "    </tr>\n",
       "    <tr>\n",
       "      <th>Episode 11</th>\n",
       "      <td>0.01</td>\n",
       "      <td>0.01</td>\n",
       "    </tr>\n",
       "    <tr>\n",
       "      <th>Episode 12</th>\n",
       "      <td>0.01</td>\n",
       "      <td>0.01</td>\n",
       "    </tr>\n",
       "    <tr>\n",
       "      <th>...</th>\n",
       "      <td>...</td>\n",
       "      <td>...</td>\n",
       "    </tr>\n",
       "    <tr>\n",
       "      <th>Episode 95</th>\n",
       "      <td>0.01</td>\n",
       "      <td>0.01</td>\n",
       "    </tr>\n",
       "    <tr>\n",
       "      <th>Episode 96</th>\n",
       "      <td>0.01</td>\n",
       "      <td>0.01</td>\n",
       "    </tr>\n",
       "    <tr>\n",
       "      <th>Episode 97</th>\n",
       "      <td>0.01</td>\n",
       "      <td>0.01</td>\n",
       "    </tr>\n",
       "    <tr>\n",
       "      <th>Episode 98</th>\n",
       "      <td>0.01</td>\n",
       "      <td>0.01</td>\n",
       "    </tr>\n",
       "    <tr>\n",
       "      <th>Episode 99</th>\n",
       "      <td>0.01</td>\n",
       "      <td>0.01</td>\n",
       "    </tr>\n",
       "  </tbody>\n",
       "</table>\n",
       "<p>100 rows × 2 columns</p>\n",
       "</div>"
      ]
     },
     "execution_count": 70,
     "metadata": {},
     "output_type": "execute_result"
    }
   ],
   "execution_count": 70
  },
  {
   "metadata": {},
   "cell_type": "code",
   "outputs": [],
   "execution_count": null,
   "source": [
    "#todo change types cat to category, num to int8 after normalization\n",
    "#todo create separate file for data preparation"
   ],
   "id": "3ca48c72793db64c"
  },
  {
   "metadata": {
    "ExecuteTime": {
     "end_time": "2025-04-02T08:24:16.948374Z",
     "start_time": "2025-04-02T08:24:16.738192Z"
    }
   },
   "cell_type": "code",
   "source": [
    "col = \\\n",
    "    'Number_of_Ads'\n",
    "sns.kdeplot(x=train[col])\n",
    "sns.kdeplot(x=test[col])"
   ],
   "id": "2c987d9af20d786",
   "outputs": [
    {
     "name": "stderr",
     "output_type": "stream",
     "text": [
      "/opt/anaconda3/lib/python3.12/site-packages/seaborn/_oldcore.py:1119: FutureWarning: use_inf_as_na option is deprecated and will be removed in a future version. Convert inf values to NaN before operating instead.\n",
      "  with pd.option_context('mode.use_inf_as_na', True):\n",
      "/opt/anaconda3/lib/python3.12/site-packages/seaborn/_oldcore.py:1119: FutureWarning: use_inf_as_na option is deprecated and will be removed in a future version. Convert inf values to NaN before operating instead.\n",
      "  with pd.option_context('mode.use_inf_as_na', True):\n"
     ]
    },
    {
     "data": {
      "text/plain": [
       "<Axes: xlabel='Number_of_Ads', ylabel='Density'>"
      ]
     },
     "execution_count": 36,
     "metadata": {},
     "output_type": "execute_result"
    },
    {
     "data": {
      "text/plain": [
       "<Figure size 640x480 with 1 Axes>"
      ],
      "image/png": "[encoded data removed]"
     },
     "metadata": {},
     "output_type": "display_data"
    }
   ],
   "execution_count": 36
  },
  {
   "metadata": {
    "ExecuteTime": {
     "end_time": "2025-04-02T14:28:05.867928Z",
     "start_time": "2025-04-02T14:28:05.653293Z"
    }
   },
   "cell_type": "code",
   "source": [
    "sns.kdeplot(x=train['Listening_Time_minutes'])\n",
    "sns.kdeplot(x=train['Episode_Length_minutes'])\n",
    "plt.show()"
   ],
   "id": "a6284c084dec8107",
   "outputs": [
    {
     "data": {
      "text/plain": [
       "<Figure size 640x480 with 1 Axes>"
      ],
      "image/png": "[encoded data removed]"
     },
     "metadata": {},
     "output_type": "display_data"
    }
   ],
   "execution_count": 79
  },
  {
   "metadata": {
    "ExecuteTime": {
     "end_time": "2025-04-02T14:28:36.736805Z",
     "start_time": "2025-04-02T14:28:36.720830Z"
    }
   },
   "cell_type": "code",
   "source": "train.loc[:, num_cols].corr()",
   "id": "37c4f4614fcf5332",
   "outputs": [
    {
     "data": {
      "text/plain": [
       "                             Episode_Length_minutes  \\\n",
       "Episode_Length_minutes                         1.00   \n",
       "Host_Popularity_percentage                     0.02   \n",
       "Guest_Popularity_percentage                   -0.01   \n",
       "Number_of_Ads                                 -0.06   \n",
       "Listening_Time_minutes                         0.92   \n",
       "\n",
       "                             Host_Popularity_percentage  \\\n",
       "Episode_Length_minutes                             0.02   \n",
       "Host_Popularity_percentage                         1.00   \n",
       "Guest_Popularity_percentage                        0.02   \n",
       "Number_of_Ads                                     -0.02   \n",
       "Listening_Time_minutes                             0.05   \n",
       "\n",
       "                             Guest_Popularity_percentage  Number_of_Ads  \\\n",
       "Episode_Length_minutes                             -0.01          -0.06   \n",
       "Host_Popularity_percentage                          0.02          -0.02   \n",
       "Guest_Popularity_percentage                         1.00           0.01   \n",
       "Number_of_Ads                                       0.01           1.00   \n",
       "Listening_Time_minutes                             -0.02          -0.12   \n",
       "\n",
       "                             Listening_Time_minutes  \n",
       "Episode_Length_minutes                         0.92  \n",
       "Host_Popularity_percentage                     0.05  \n",
       "Guest_Popularity_percentage                   -0.02  \n",
       "Number_of_Ads                                 -0.12  \n",
       "Listening_Time_minutes                         1.00  "
      ],
      "text/html": [
       "<div>\n",
       "<style scoped>\n",
       "    .dataframe tbody tr th:only-of-type {\n",
       "        vertical-align: middle;\n",
       "    }\n",
       "\n",
       "    .dataframe tbody tr th {\n",
       "        vertical-align: top;\n",
       "    }\n",
       "\n",
       "    .dataframe thead th {\n",
       "        text-align: right;\n",
       "    }\n",
       "</style>\n",
       "<table border=\"1\" class=\"dataframe\">\n",
       "  <thead>\n",
       "    <tr style=\"text-align: right;\">\n",
       "      <th></th>\n",
       "      <th>Episode_Length_minutes</th>\n",
       "      <th>Host_Popularity_percentage</th>\n",
       "      <th>Guest_Popularity_percentage</th>\n",
       "      <th>Number_of_Ads</th>\n",
       "      <th>Listening_Time_minutes</th>\n",
       "    </tr>\n",
       "  </thead>\n",
       "  <tbody>\n",
       "    <tr>\n",
       "      <th>Episode_Length_minutes</th>\n",
       "      <td>1.00</td>\n",
       "      <td>0.02</td>\n",
       "      <td>-0.01</td>\n",
       "      <td>-0.06</td>\n",
       "      <td>0.92</td>\n",
       "    </tr>\n",
       "    <tr>\n",
       "      <th>Host_Popularity_percentage</th>\n",
       "      <td>0.02</td>\n",
       "      <td>1.00</td>\n",
       "      <td>0.02</td>\n",
       "      <td>-0.02</td>\n",
       "      <td>0.05</td>\n",
       "    </tr>\n",
       "    <tr>\n",
       "      <th>Guest_Popularity_percentage</th>\n",
       "      <td>-0.01</td>\n",
       "      <td>0.02</td>\n",
       "      <td>1.00</td>\n",
       "      <td>0.01</td>\n",
       "      <td>-0.02</td>\n",
       "    </tr>\n",
       "    <tr>\n",
       "      <th>Number_of_Ads</th>\n",
       "      <td>-0.06</td>\n",
       "      <td>-0.02</td>\n",
       "      <td>0.01</td>\n",
       "      <td>1.00</td>\n",
       "      <td>-0.12</td>\n",
       "    </tr>\n",
       "    <tr>\n",
       "      <th>Listening_Time_minutes</th>\n",
       "      <td>0.92</td>\n",
       "      <td>0.05</td>\n",
       "      <td>-0.02</td>\n",
       "      <td>-0.12</td>\n",
       "      <td>1.00</td>\n",
       "    </tr>\n",
       "  </tbody>\n",
       "</table>\n",
       "</div>"
      ]
     },
     "execution_count": 80,
     "metadata": {},
     "output_type": "execute_result"
    }
   ],
   "execution_count": 80
  },
  {
   "metadata": {},
   "cell_type": "code",
   "outputs": [],
   "execution_count": null,
   "source": "",
   "id": "9849617f3de04cd5"
  }
 ],
 "metadata": {
  "kernelspec": {
   "display_name": "Python 3",
   "language": "python",
   "name": "python3"
  },
  "language_info": {
   "codemirror_mode": {
    "name": "ipython",
    "version": 2
   },
   "file_extension": ".py",
   "mimetype": "text/x-python",
   "name": "python",
   "nbconvert_exporter": "python",
   "pygments_lexer": "ipython2",
   "version": "2.7.6"
  }
 },
 "nbformat": 4,
 "nbformat_minor": 5
}
